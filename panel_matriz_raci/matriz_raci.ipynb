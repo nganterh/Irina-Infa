{
 "cells": [
  {
   "cell_type": "code",
   "execution_count": 5,
   "id": "8190beff",
   "metadata": {},
   "outputs": [
    {
     "name": "stdout",
     "output_type": "stream",
     "text": [
      "Streamlit app terminated.\n"
     ]
    }
   ],
   "source": [
    "import platform\n",
    "import subprocess\n",
    "import time\n",
    "\n",
    "def run_streamlit_app():\n",
    "    streamlit_command = [\"streamlit\", \"run\", \"streamlit_app.py\"]\n",
    "    \n",
    "    if platform.system() == \"Windows\":\n",
    "        # Start the Streamlit app using subprocess for Windows\n",
    "        process = subprocess.Popen(streamlit_command, shell=True)\n",
    "    else:\n",
    "        # Start the Streamlit app using subprocess for Unix (Linux, macOS)\n",
    "        process = subprocess.Popen(streamlit_command, shell=True, executable=\"/bin/bash\")\n",
    "    \n",
    "    try:\n",
    "        # Add a loop to wait until you want to stop the process\n",
    "        while True:\n",
    "            # Keep the loop running for demonstration purposes\n",
    "            time.sleep(1)\n",
    "    except KeyboardInterrupt:\n",
    "        # Terminate the subprocess when the loop is interrupted (e.g., by pressing Ctrl+C)\n",
    "        process.terminate()\n",
    "        print(\"Streamlit app terminated.\")\n",
    "\n",
    "if __name__ == \"__main__\":\n",
    "    run_streamlit_app()"
   ]
  },
  {
   "cell_type": "code",
   "execution_count": null,
   "id": "6945542e",
   "metadata": {},
   "outputs": [],
   "source": []
  }
 ],
 "metadata": {
  "kernelspec": {
   "display_name": ".venv (3.11.9)",
   "language": "python",
   "name": "python3"
  },
  "language_info": {
   "codemirror_mode": {
    "name": "ipython",
    "version": 3
   },
   "file_extension": ".py",
   "mimetype": "text/x-python",
   "name": "python",
   "nbconvert_exporter": "python",
   "pygments_lexer": "ipython3",
   "version": "3.11.9"
  }
 },
 "nbformat": 4,
 "nbformat_minor": 5
}
